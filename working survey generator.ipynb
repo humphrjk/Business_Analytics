{
 "cells": [
  {
   "cell_type": "code",
   "execution_count": 2,
   "metadata": {},
   "outputs": [
    {
     "name": "stdout",
     "output_type": "stream",
     "text": [
      "Requirement already satisfied: openpyxl in c:\\users\\jamie humphries\\.conda\\envs\\datascience_env\\lib\\site-packages (3.1.2)\n",
      "Requirement already satisfied: et-xmlfile in c:\\users\\jamie humphries\\.conda\\envs\\datascience_env\\lib\\site-packages (from openpyxl) (1.1.0)\n",
      "Note: you may need to restart the kernel to use updated packages.\n"
     ]
    }
   ],
   "source": [
    "pip install openpyxl"
   ]
  },
  {
   "cell_type": "code",
   "execution_count": 8,
   "metadata": {},
   "outputs": [
    {
     "data": {
      "text/plain": [
       "'C://Users//Jamie Humphries//OneDrive - ionscout.com//biased_Datasurvey_data3.xlsx'"
      ]
     },
     "execution_count": 8,
     "metadata": {},
     "output_type": "execute_result"
    }
   ],
   "source": [
    "import pandas as pd\n",
    "import numpy as np\n",
    "from sklearn.metrics import r2_score\n",
    "\n",
    "# Seed for reproducibility\n",
    "np.random.seed(42)\n",
    "\n",
    "# Number of respondents\n",
    "n_respondents = 1000\n",
    "\n",
    "# Generate Satisfaction scores\n",
    "satisfaction = np.random.uniform(low=1, high=7, size=n_respondents)\n",
    "\n",
    "# Generating Recommend and Repurchase scores\n",
    "# Adjusting noise to approximate desired R-squared values\n",
    "noise_recommend = np.random.normal(0, 0.8, n_respondents)\n",
    "noise_repurchase = np.random.normal(0, 0.5, n_respondents)\n",
    "\n",
    "recommend = satisfaction * 0.7 + noise_recommend\n",
    "repurchase = satisfaction * 1.1 + noise_repurchase\n",
    "\n",
    "# Clipping scores to ensure they are within the 1 to 7 range\n",
    "recommend = np.clip(recommend, 1, 7)\n",
    "repurchase = np.clip(repurchase, 1, 7)\n",
    "\n",
    "# Creating DataFrame\n",
    "df = pd.DataFrame({'Satisfaction': satisfaction, 'Recommend': recommend, 'Repurchase': repurchase})\n",
    "\n",
    "# Verifying R-squared values (for demonstration, actual verification might require a regression model)\n",
    "r2_recommend = r2_score(satisfaction, recommend)\n",
    "r2_repurchase = r2_score(satisfaction, repurchase)\n",
    "\n",
    "# Displaying R-squared values\n",
    "r2_values = {\"R-squared Satisfaction -> Recommend\": r2_recommend, \"R-squared Satisfaction -> Repurchase\": r2_repurchase}\n",
    "r2_values\n",
    "\n",
    "# Saving the DataFrame to an Excel file\n",
    "file_path = 'C://Users//Jamie Humphries//OneDrive - ionscout.com//biased_Datasurvey_data3.xlsx'\n",
    "df.to_excel(file_path, index=False)\n",
    "\n",
    "file_path"
   ]
  }
 ],
 "metadata": {
  "kernelspec": {
   "display_name": "datascience_env",
   "language": "python",
   "name": "python3"
  },
  "language_info": {
   "codemirror_mode": {
    "name": "ipython",
    "version": 3
   },
   "file_extension": ".py",
   "mimetype": "text/x-python",
   "name": "python",
   "nbconvert_exporter": "python",
   "pygments_lexer": "ipython3",
   "version": "3.8.3"
  }
 },
 "nbformat": 4,
 "nbformat_minor": 2
}
