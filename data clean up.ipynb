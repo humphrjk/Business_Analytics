{
 "cells": [
  {
   "cell_type": "markdown",
   "metadata": {},
   "source": []
  },
  {
   "cell_type": "code",
   "execution_count": 13,
   "metadata": {},
   "outputs": [],
   "source": [
    "import os\n",
    "import pandas as pd"
   ]
  },
  {
   "cell_type": "code",
   "execution_count": 18,
   "metadata": {},
   "outputs": [
    {
     "data": {
      "text/html": [
       "<div>\n",
       "<style scoped>\n",
       "    .dataframe tbody tr th:only-of-type {\n",
       "        vertical-align: middle;\n",
       "    }\n",
       "\n",
       "    .dataframe tbody tr th {\n",
       "        vertical-align: top;\n",
       "    }\n",
       "\n",
       "    .dataframe thead th {\n",
       "        text-align: right;\n",
       "    }\n",
       "</style>\n",
       "<table border=\"1\" class=\"dataframe\">\n",
       "  <thead>\n",
       "    <tr style=\"text-align: right;\">\n",
       "      <th></th>\n",
       "      <th>HOUR_I_R</th>\n",
       "      <th>ALCHL_I</th>\n",
       "      <th>ALIGN_I</th>\n",
       "      <th>STRATUM_R</th>\n",
       "      <th>WRK_ZONE</th>\n",
       "      <th>WKDY_I_R</th>\n",
       "      <th>INT_HWY</th>\n",
       "      <th>LGTCON_I_R</th>\n",
       "      <th>MANCOL_I_R</th>\n",
       "      <th>PED_ACC_R</th>\n",
       "      <th>...</th>\n",
       "      <th>SUR_COND</th>\n",
       "      <th>TRAF_CON_R</th>\n",
       "      <th>TRAF_WAY</th>\n",
       "      <th>VEH_INVL</th>\n",
       "      <th>WEATHER_R</th>\n",
       "      <th>INJURY_CRASH</th>\n",
       "      <th>NO_INJ_I</th>\n",
       "      <th>PRPTYDMG_CRASH</th>\n",
       "      <th>FATALITIES</th>\n",
       "      <th>MAX_SEV_IR</th>\n",
       "    </tr>\n",
       "  </thead>\n",
       "  <tbody>\n",
       "    <tr>\n",
       "      <th>0</th>\n",
       "      <td>0</td>\n",
       "      <td>2</td>\n",
       "      <td>2</td>\n",
       "      <td>1</td>\n",
       "      <td>0</td>\n",
       "      <td>1</td>\n",
       "      <td>0</td>\n",
       "      <td>3</td>\n",
       "      <td>0</td>\n",
       "      <td>0</td>\n",
       "      <td>...</td>\n",
       "      <td>4</td>\n",
       "      <td>0</td>\n",
       "      <td>3</td>\n",
       "      <td>1</td>\n",
       "      <td>1</td>\n",
       "      <td>1</td>\n",
       "      <td>1</td>\n",
       "      <td>0</td>\n",
       "      <td>0</td>\n",
       "      <td>1</td>\n",
       "    </tr>\n",
       "    <tr>\n",
       "      <th>1</th>\n",
       "      <td>1</td>\n",
       "      <td>2</td>\n",
       "      <td>1</td>\n",
       "      <td>0</td>\n",
       "      <td>0</td>\n",
       "      <td>1</td>\n",
       "      <td>1</td>\n",
       "      <td>3</td>\n",
       "      <td>2</td>\n",
       "      <td>0</td>\n",
       "      <td>...</td>\n",
       "      <td>4</td>\n",
       "      <td>0</td>\n",
       "      <td>3</td>\n",
       "      <td>2</td>\n",
       "      <td>2</td>\n",
       "      <td>0</td>\n",
       "      <td>0</td>\n",
       "      <td>1</td>\n",
       "      <td>0</td>\n",
       "      <td>0</td>\n",
       "    </tr>\n",
       "    <tr>\n",
       "      <th>2</th>\n",
       "      <td>1</td>\n",
       "      <td>2</td>\n",
       "      <td>1</td>\n",
       "      <td>0</td>\n",
       "      <td>0</td>\n",
       "      <td>1</td>\n",
       "      <td>0</td>\n",
       "      <td>3</td>\n",
       "      <td>2</td>\n",
       "      <td>0</td>\n",
       "      <td>...</td>\n",
       "      <td>4</td>\n",
       "      <td>1</td>\n",
       "      <td>2</td>\n",
       "      <td>2</td>\n",
       "      <td>2</td>\n",
       "      <td>0</td>\n",
       "      <td>0</td>\n",
       "      <td>1</td>\n",
       "      <td>0</td>\n",
       "      <td>0</td>\n",
       "    </tr>\n",
       "    <tr>\n",
       "      <th>3</th>\n",
       "      <td>1</td>\n",
       "      <td>2</td>\n",
       "      <td>1</td>\n",
       "      <td>1</td>\n",
       "      <td>0</td>\n",
       "      <td>0</td>\n",
       "      <td>0</td>\n",
       "      <td>3</td>\n",
       "      <td>2</td>\n",
       "      <td>0</td>\n",
       "      <td>...</td>\n",
       "      <td>4</td>\n",
       "      <td>1</td>\n",
       "      <td>2</td>\n",
       "      <td>2</td>\n",
       "      <td>1</td>\n",
       "      <td>0</td>\n",
       "      <td>0</td>\n",
       "      <td>1</td>\n",
       "      <td>0</td>\n",
       "      <td>0</td>\n",
       "    </tr>\n",
       "    <tr>\n",
       "      <th>4</th>\n",
       "      <td>1</td>\n",
       "      <td>1</td>\n",
       "      <td>1</td>\n",
       "      <td>0</td>\n",
       "      <td>0</td>\n",
       "      <td>1</td>\n",
       "      <td>0</td>\n",
       "      <td>3</td>\n",
       "      <td>2</td>\n",
       "      <td>0</td>\n",
       "      <td>...</td>\n",
       "      <td>4</td>\n",
       "      <td>0</td>\n",
       "      <td>2</td>\n",
       "      <td>3</td>\n",
       "      <td>1</td>\n",
       "      <td>0</td>\n",
       "      <td>0</td>\n",
       "      <td>1</td>\n",
       "      <td>0</td>\n",
       "      <td>0</td>\n",
       "    </tr>\n",
       "  </tbody>\n",
       "</table>\n",
       "<p>5 rows × 24 columns</p>\n",
       "</div>"
      ],
      "text/plain": [
       "   HOUR_I_R  ALCHL_I  ALIGN_I  STRATUM_R  WRK_ZONE  WKDY_I_R  INT_HWY  \\\n",
       "0         0        2        2          1         0         1        0   \n",
       "1         1        2        1          0         0         1        1   \n",
       "2         1        2        1          0         0         1        0   \n",
       "3         1        2        1          1         0         0        0   \n",
       "4         1        1        1          0         0         1        0   \n",
       "\n",
       "   LGTCON_I_R  MANCOL_I_R  PED_ACC_R  ...  SUR_COND  TRAF_CON_R  TRAF_WAY  \\\n",
       "0           3           0          0  ...         4           0         3   \n",
       "1           3           2          0  ...         4           0         3   \n",
       "2           3           2          0  ...         4           1         2   \n",
       "3           3           2          0  ...         4           1         2   \n",
       "4           3           2          0  ...         4           0         2   \n",
       "\n",
       "   VEH_INVL  WEATHER_R  INJURY_CRASH  NO_INJ_I  PRPTYDMG_CRASH  FATALITIES  \\\n",
       "0         1          1             1         1               0           0   \n",
       "1         2          2             0         0               1           0   \n",
       "2         2          2             0         0               1           0   \n",
       "3         2          1             0         0               1           0   \n",
       "4         3          1             0         0               1           0   \n",
       "\n",
       "   MAX_SEV_IR  \n",
       "0           1  \n",
       "1           0  \n",
       "2           0  \n",
       "3           0  \n",
       "4           0  \n",
       "\n",
       "[5 rows x 24 columns]"
      ]
     },
     "execution_count": 18,
     "metadata": {},
     "output_type": "execute_result"
    },
    {
     "ename": "",
     "evalue": "",
     "output_type": "error",
     "traceback": [
      "\u001b[1;31mThe Kernel crashed while executing code in the current cell or a previous cell. \n",
      "\u001b[1;31mPlease review the code in the cell(s) to identify a possible cause of the failure. \n",
      "\u001b[1;31mClick <a href='https://aka.ms/vscodeJupyterKernelCrash'>here</a> for more info. \n",
      "\u001b[1;31mView Jupyter <a href='command:jupyter.viewOutput'>log</a> for further details."
     ]
    }
   ],
   "source": [
    "df=pd.read_csv(r'C:\\Users\\Jamie Humphries\\OneDrive - ionscout.com\\Data\\accidentsFull.csv')\n",
    "df.head()"
   ]
  },
  {
   "cell_type": "markdown",
   "metadata": {},
   "source": []
  },
  {
   "cell_type": "markdown",
   "metadata": {},
   "source": [
    "1. Filling with a Constant Value\n",
    "You can fill in missing values with a specific constant. Common choices include zero, an empty string, or any other constant that makes sense in the context of your data."
   ]
  },
  {
   "cell_type": "code",
   "execution_count": null,
   "metadata": {},
   "outputs": [],
   "source": [
    "import pandas as pd\n",
    "\n",
    "# Assuming 'df' is your DataFrame and 'column' is your column name\n",
    "df['column'] = df['column'].fillna(value=0)  # Replace 0 with any constant value\n"
   ]
  },
  {
   "cell_type": "markdown",
   "metadata": {},
   "source": [
    "2. Filling with a Statistic (Mean, Median, Mode)\n",
    "For numerical data, it's common to fill in missing values with the mean, median, or mode of the column."
   ]
  },
  {
   "cell_type": "code",
   "execution_count": null,
   "metadata": {},
   "outputs": [],
   "source": [
    "# Fill with mean\n",
    "df['column'] = df['column'].fillna(df['column'].mean())\n",
    "\n",
    "# Fill with median\n",
    "df['column'] = df['column'].fillna(df['column'].median())\n",
    "\n",
    "# Fill with mode (note mode() returns a Series, so you need to select the element)\n",
    "df['column'] = df['column'].fillna(df['column'].mode()[0])\n"
   ]
  },
  {
   "cell_type": "markdown",
   "metadata": {},
   "source": [
    "3. Forward Filling or Backward Filling\n",
    "This method is useful in time series data where you can assume that the missing value will be the same as the last known value (forward fill) or the next known value (backward fill)."
   ]
  },
  {
   "cell_type": "code",
   "execution_count": null,
   "metadata": {},
   "outputs": [],
   "source": [
    "# Forward fill\n",
    "df['column'] = df['column'].fillna(method='ffill')\n",
    "\n",
    "# Backward fill\n",
    "df['column'] = df['column'].fillna(method='bfill')\n"
   ]
  },
  {
   "cell_type": "markdown",
   "metadata": {},
   "source": [
    "4. Interpolation\n",
    "For numerical data that follows some pattern or trend, you can use interpolation methods provided by pandas, which are especially useful in time series."
   ]
  },
  {
   "cell_type": "code",
   "execution_count": null,
   "metadata": {},
   "outputs": [],
   "source": [
    "df['column'] = df['column'].interpolate(method='linear')  # 'linear', 'quadratic', 'polynomial', etc.\n"
   ]
  },
  {
   "cell_type": "markdown",
   "metadata": {},
   "source": [
    "5. Using Machine Learning to Predict Missing Values\n",
    "If the missing data is substantial and you suspect that it has complex relationships with other variables, you can use machine learning models to predict the missing values."
   ]
  },
  {
   "cell_type": "code",
   "execution_count": null,
   "metadata": {},
   "outputs": [],
   "source": [
    "from sklearn.linear_model import LinearRegression\n",
    "\n",
    "# Example: using linear regression to fill missing values\n",
    "# Assume 'column' has missing values and is dependent on other columns\n",
    "train = df[df['column'].notna()]  # Training data where 'column' is not missing\n",
    "test = df[df['column'].isna()]    # Data where 'column' is missing\n",
    "\n",
    "model = LinearRegression()\n",
    "model.fit(train[['other_column1', 'other_column2']], train['column'])\n",
    "\n",
    "# Predict and fill missing values\n",
    "test['column'] = model.predict(test[['other_column1', 'other_column2']])\n",
    "df.loc[test.index, 'column'] = test['column']\n"
   ]
  },
  {
   "cell_type": "markdown",
   "metadata": {},
   "source": [
    "6. Dropping Missing Values\n",
    "As a last resort, if the missing data is not significant, you can choose to simply drop the rows with missing values. This is generally not recommended unless you have a very small amount of missing data."
   ]
  },
  {
   "cell_type": "code",
   "execution_count": null,
   "metadata": {},
   "outputs": [],
   "source": [
    "df = df.dropna(subset=['column'])  # Drops rows where 'column' is NaN\n"
   ]
  },
  {
   "cell_type": "markdown",
   "metadata": {},
   "source": [
    "Selecting the Right Method\n",
    "The choice of method depends on:\n",
    "\n",
    "The amount of missing data.\n",
    "The importance of accurate data in your analysis.\n",
    "Whether your data is numerical, categorical, or time series.\n",
    "The underlying patterns and relationships in your data.\n",
    "It's also good practice to consider the implications of each method on your analysis or model results, as different imputation techniques can lead to different biases in your data."
   ]
  }
 ],
 "metadata": {
  "kernelspec": {
   "display_name": "base",
   "language": "python",
   "name": "python3"
  },
  "language_info": {
   "codemirror_mode": {
    "name": "ipython",
    "version": 3
   },
   "file_extension": ".py",
   "mimetype": "text/x-python",
   "name": "python",
   "nbconvert_exporter": "python",
   "pygments_lexer": "ipython3",
   "version": "3.8.18"
  }
 },
 "nbformat": 4,
 "nbformat_minor": 2
}
